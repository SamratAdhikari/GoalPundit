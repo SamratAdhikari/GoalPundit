{
 "cells": [
  {
   "cell_type": "markdown",
   "id": "7b548c91-dd43-4414-8a8d-7774f35e2477",
   "metadata": {},
   "source": [
    "# Premier League Prediction"
   ]
  },
  {
   "cell_type": "markdown",
   "id": "a1d06c84-4757-4375-a88b-ce937181a902",
   "metadata": {},
   "source": [
    "### Libraries"
   ]
  },
  {
   "cell_type": "code",
   "execution_count": 3,
   "id": "7aefb18b-898c-4f9a-b326-681829dfa892",
   "metadata": {},
   "outputs": [],
   "source": [
    "import pandas as pd"
   ]
  },
  {
   "cell_type": "markdown",
   "id": "68e63ce6-6c6e-4d8c-9477-8bebed435098",
   "metadata": {},
   "source": [
    "### Initialization"
   ]
  },
  {
   "cell_type": "code",
   "execution_count": 4,
   "id": "0201f06f-95c1-48f0-8b33-91cfa0c77995",
   "metadata": {},
   "outputs": [
    {
     "data": {
      "text/html": [
       "<div>\n",
       "<style scoped>\n",
       "    .dataframe tbody tr th:only-of-type {\n",
       "        vertical-align: middle;\n",
       "    }\n",
       "\n",
       "    .dataframe tbody tr th {\n",
       "        vertical-align: top;\n",
       "    }\n",
       "\n",
       "    .dataframe thead th {\n",
       "        text-align: right;\n",
       "    }\n",
       "</style>\n",
       "<table border=\"1\" class=\"dataframe\">\n",
       "  <thead>\n",
       "    <tr style=\"text-align: right;\">\n",
       "      <th></th>\n",
       "      <th>date</th>\n",
       "      <th>time</th>\n",
       "      <th>comp</th>\n",
       "      <th>round</th>\n",
       "      <th>day</th>\n",
       "      <th>venue</th>\n",
       "      <th>result</th>\n",
       "      <th>gf</th>\n",
       "      <th>ga</th>\n",
       "      <th>opponent</th>\n",
       "      <th>...</th>\n",
       "      <th>match report</th>\n",
       "      <th>notes</th>\n",
       "      <th>sh</th>\n",
       "      <th>sot</th>\n",
       "      <th>dist</th>\n",
       "      <th>fk</th>\n",
       "      <th>pk</th>\n",
       "      <th>pkatt</th>\n",
       "      <th>season</th>\n",
       "      <th>team</th>\n",
       "    </tr>\n",
       "  </thead>\n",
       "  <tbody>\n",
       "    <tr>\n",
       "      <th>0</th>\n",
       "      <td>2015-08-08</td>\n",
       "      <td>15:00</td>\n",
       "      <td>Premier League</td>\n",
       "      <td>Matchweek 1</td>\n",
       "      <td>Sat</td>\n",
       "      <td>Home</td>\n",
       "      <td>W</td>\n",
       "      <td>4</td>\n",
       "      <td>2</td>\n",
       "      <td>Sunderland</td>\n",
       "      <td>...</td>\n",
       "      <td>Match Report</td>\n",
       "      <td>NaN</td>\n",
       "      <td>20.0</td>\n",
       "      <td>8.0</td>\n",
       "      <td>NaN</td>\n",
       "      <td>0</td>\n",
       "      <td>1</td>\n",
       "      <td>1.0</td>\n",
       "      <td>2023</td>\n",
       "      <td>Leicester City</td>\n",
       "    </tr>\n",
       "    <tr>\n",
       "      <th>1</th>\n",
       "      <td>2015-08-15</td>\n",
       "      <td>15:00</td>\n",
       "      <td>Premier League</td>\n",
       "      <td>Matchweek 2</td>\n",
       "      <td>Sat</td>\n",
       "      <td>Away</td>\n",
       "      <td>W</td>\n",
       "      <td>2</td>\n",
       "      <td>1</td>\n",
       "      <td>West Ham</td>\n",
       "      <td>...</td>\n",
       "      <td>Match Report</td>\n",
       "      <td>NaN</td>\n",
       "      <td>10.0</td>\n",
       "      <td>5.0</td>\n",
       "      <td>NaN</td>\n",
       "      <td>0</td>\n",
       "      <td>0</td>\n",
       "      <td>0.0</td>\n",
       "      <td>2023</td>\n",
       "      <td>Leicester City</td>\n",
       "    </tr>\n",
       "    <tr>\n",
       "      <th>2</th>\n",
       "      <td>2015-08-22</td>\n",
       "      <td>15:00</td>\n",
       "      <td>Premier League</td>\n",
       "      <td>Matchweek 3</td>\n",
       "      <td>Sat</td>\n",
       "      <td>Home</td>\n",
       "      <td>D</td>\n",
       "      <td>1</td>\n",
       "      <td>1</td>\n",
       "      <td>Tottenham</td>\n",
       "      <td>...</td>\n",
       "      <td>Match Report</td>\n",
       "      <td>NaN</td>\n",
       "      <td>13.0</td>\n",
       "      <td>2.0</td>\n",
       "      <td>NaN</td>\n",
       "      <td>0</td>\n",
       "      <td>0</td>\n",
       "      <td>0.0</td>\n",
       "      <td>2023</td>\n",
       "      <td>Leicester City</td>\n",
       "    </tr>\n",
       "    <tr>\n",
       "      <th>3</th>\n",
       "      <td>2015-08-29</td>\n",
       "      <td>15:00</td>\n",
       "      <td>Premier League</td>\n",
       "      <td>Matchweek 4</td>\n",
       "      <td>Sat</td>\n",
       "      <td>Away</td>\n",
       "      <td>D</td>\n",
       "      <td>1</td>\n",
       "      <td>1</td>\n",
       "      <td>Bournemouth</td>\n",
       "      <td>...</td>\n",
       "      <td>Match Report</td>\n",
       "      <td>NaN</td>\n",
       "      <td>4.0</td>\n",
       "      <td>2.0</td>\n",
       "      <td>NaN</td>\n",
       "      <td>0</td>\n",
       "      <td>1</td>\n",
       "      <td>1.0</td>\n",
       "      <td>2023</td>\n",
       "      <td>Leicester City</td>\n",
       "    </tr>\n",
       "    <tr>\n",
       "      <th>4</th>\n",
       "      <td>2015-09-13</td>\n",
       "      <td>16:00</td>\n",
       "      <td>Premier League</td>\n",
       "      <td>Matchweek 5</td>\n",
       "      <td>Sun</td>\n",
       "      <td>Home</td>\n",
       "      <td>W</td>\n",
       "      <td>3</td>\n",
       "      <td>2</td>\n",
       "      <td>Aston Villa</td>\n",
       "      <td>...</td>\n",
       "      <td>Match Report</td>\n",
       "      <td>NaN</td>\n",
       "      <td>21.0</td>\n",
       "      <td>6.0</td>\n",
       "      <td>NaN</td>\n",
       "      <td>0</td>\n",
       "      <td>0</td>\n",
       "      <td>0.0</td>\n",
       "      <td>2023</td>\n",
       "      <td>Leicester City</td>\n",
       "    </tr>\n",
       "  </tbody>\n",
       "</table>\n",
       "<p>5 rows × 26 columns</p>\n",
       "</div>"
      ],
      "text/plain": [
       "         date   time            comp        round  day venue result  gf  ga  \\\n",
       "0  2015-08-08  15:00  Premier League  Matchweek 1  Sat  Home      W   4   2   \n",
       "1  2015-08-15  15:00  Premier League  Matchweek 2  Sat  Away      W   2   1   \n",
       "2  2015-08-22  15:00  Premier League  Matchweek 3  Sat  Home      D   1   1   \n",
       "3  2015-08-29  15:00  Premier League  Matchweek 4  Sat  Away      D   1   1   \n",
       "4  2015-09-13  16:00  Premier League  Matchweek 5  Sun  Home      W   3   2   \n",
       "\n",
       "      opponent  ...  match report  notes    sh  sot dist fk pk  pkatt  season  \\\n",
       "0   Sunderland  ...  Match Report    NaN  20.0  8.0  NaN  0  1    1.0    2023   \n",
       "1     West Ham  ...  Match Report    NaN  10.0  5.0  NaN  0  0    0.0    2023   \n",
       "2    Tottenham  ...  Match Report    NaN  13.0  2.0  NaN  0  0    0.0    2023   \n",
       "3  Bournemouth  ...  Match Report    NaN   4.0  2.0  NaN  0  1    1.0    2023   \n",
       "4  Aston Villa  ...  Match Report    NaN  21.0  6.0  NaN  0  0    0.0    2023   \n",
       "\n",
       "             team  \n",
       "0  Leicester City  \n",
       "1  Leicester City  \n",
       "2  Leicester City  \n",
       "3  Leicester City  \n",
       "4  Leicester City  \n",
       "\n",
       "[5 rows x 26 columns]"
      ]
     },
     "execution_count": 4,
     "metadata": {},
     "output_type": "execute_result"
    }
   ],
   "source": [
    "matches = pd.read_csv(\"../data/premier_league_data.csv\")\n",
    "matches.head()"
   ]
  },
  {
   "cell_type": "code",
   "execution_count": 5,
   "id": "37d71716-7d74-4101-9c04-249270334fe2",
   "metadata": {},
   "outputs": [
    {
     "data": {
      "text/plain": [
       "(9880, 26)"
      ]
     },
     "execution_count": 5,
     "metadata": {},
     "output_type": "execute_result"
    }
   ],
   "source": [
    "matches.shape"
   ]
  },
  {
   "cell_type": "code",
   "execution_count": 10,
   "id": "3c49253f-e6be-4b1d-8773-b293fae79a26",
   "metadata": {},
   "outputs": [
    {
     "data": {
      "text/plain": [
       "9880"
      ]
     },
     "execution_count": 10,
     "metadata": {},
     "output_type": "execute_result"
    }
   ],
   "source": [
    "38 * 20 * 13"
   ]
  },
  {
   "cell_type": "code",
   "execution_count": 7,
   "id": "f4a764b7-008e-47c3-bce5-cc1bbc10313e",
   "metadata": {},
   "outputs": [
    {
     "data": {
      "text/plain": [
       "team\n",
       "Arsenal                    494\n",
       "Tottenham Hotspur          494\n",
       "Manchester United          494\n",
       "Manchester City            494\n",
       "Chelsea                    494\n",
       "Liverpool                  494\n",
       "Everton                    494\n",
       "Aston Villa                494\n",
       "Newcastle United           456\n",
       "Fulham                     418\n",
       "West Ham United            380\n",
       "Sunderland                 380\n",
       "Bolton Wanderers           342\n",
       "Blackburn Rovers           342\n",
       "West Bromwich Albion       342\n",
       "Stoke City                 304\n",
       "Wigan Athletic             304\n",
       "Portsmouth                 266\n",
       "Birmingham City            228\n",
       "Southampton                228\n",
       "Middlesbrough              228\n",
       "Swansea City               190\n",
       "Norwich City               190\n",
       "Hull City                  152\n",
       "Charlton Athletic          152\n",
       "Crystal Palace             152\n",
       "Wolverhampton Wanderers    152\n",
       "Leicester City             114\n",
       "Reading                    114\n",
       "Queens Park Rangers        114\n",
       "Watford                     76\n",
       "Burnley                     76\n",
       "Bournemouth                 38\n",
       "Cardiff City                38\n",
       "Blackpool                   38\n",
       "Derby County                38\n",
       "Sheffield United            38\n",
       "Leeds United                38\n",
       "Name: count, dtype: int64"
      ]
     },
     "execution_count": 7,
     "metadata": {},
     "output_type": "execute_result"
    }
   ],
   "source": [
    "matches['team'].value_counts()"
   ]
  },
  {
   "cell_type": "code",
   "execution_count": 13,
   "id": "f160da74-387a-4462-bf02-db5f56397dac",
   "metadata": {},
   "outputs": [
    {
     "name": "stdout",
     "output_type": "stream",
     "text": [
      "In 13 seasons, top teams played  494 matches\n"
     ]
    }
   ],
   "source": [
    "print(\"In 13 seasons, top teams played \", 13*38, \"matches\")"
   ]
  },
  {
   "cell_type": "code",
   "execution_count": 8,
   "id": "637d7c7b-c44b-4abe-b147-b529e353de30",
   "metadata": {},
   "outputs": [
    {
     "data": {
      "text/plain": [
       "round\n",
       "Matchweek 1     260\n",
       "Matchweek 2     260\n",
       "Matchweek 3     260\n",
       "Matchweek 4     260\n",
       "Matchweek 5     260\n",
       "Matchweek 6     260\n",
       "Matchweek 7     260\n",
       "Matchweek 8     260\n",
       "Matchweek 9     260\n",
       "Matchweek 10    260\n",
       "Matchweek 11    260\n",
       "Matchweek 12    260\n",
       "Matchweek 13    260\n",
       "Matchweek 14    260\n",
       "Matchweek 15    260\n",
       "Matchweek 16    260\n",
       "Matchweek 17    260\n",
       "Matchweek 18    260\n",
       "Matchweek 19    260\n",
       "Matchweek 20    260\n",
       "Matchweek 21    260\n",
       "Matchweek 22    260\n",
       "Matchweek 23    260\n",
       "Matchweek 24    260\n",
       "Matchweek 25    260\n",
       "Matchweek 26    260\n",
       "Matchweek 27    260\n",
       "Matchweek 28    260\n",
       "Matchweek 29    260\n",
       "Matchweek 30    260\n",
       "Matchweek 31    260\n",
       "Matchweek 32    260\n",
       "Matchweek 33    260\n",
       "Matchweek 34    260\n",
       "Matchweek 35    260\n",
       "Matchweek 36    260\n",
       "Matchweek 37    260\n",
       "Matchweek 38    260\n",
       "Name: count, dtype: int64"
      ]
     },
     "execution_count": 8,
     "metadata": {},
     "output_type": "execute_result"
    }
   ],
   "source": [
    "matches[\"round\"].value_counts()"
   ]
  },
  {
   "cell_type": "code",
   "execution_count": 11,
   "id": "867d4196-cbf2-4aa8-848a-1f9c39707dbb",
   "metadata": {},
   "outputs": [
    {
     "data": {
      "text/plain": [
       "season\n",
       "2023    760\n",
       "2022    760\n",
       "2021    760\n",
       "2020    760\n",
       "2019    760\n",
       "2018    760\n",
       "2017    760\n",
       "2016    760\n",
       "2015    760\n",
       "2014    760\n",
       "2013    760\n",
       "2012    760\n",
       "2011    760\n",
       "Name: count, dtype: int64"
      ]
     },
     "execution_count": 11,
     "metadata": {},
     "output_type": "execute_result"
    }
   ],
   "source": [
    "matches['season'].value_counts()"
   ]
  },
  {
   "cell_type": "code",
   "execution_count": null,
   "id": "00514e72-3276-41ed-a00b-6f68afebf604",
   "metadata": {},
   "outputs": [],
   "source": []
  }
 ],
 "metadata": {
  "kernelspec": {
   "display_name": "Python 3 (ipykernel)",
   "language": "python",
   "name": "python3"
  },
  "language_info": {
   "codemirror_mode": {
    "name": "ipython",
    "version": 3
   },
   "file_extension": ".py",
   "mimetype": "text/x-python",
   "name": "python",
   "nbconvert_exporter": "python",
   "pygments_lexer": "ipython3",
   "version": "3.11.3"
  }
 },
 "nbformat": 4,
 "nbformat_minor": 5
}
